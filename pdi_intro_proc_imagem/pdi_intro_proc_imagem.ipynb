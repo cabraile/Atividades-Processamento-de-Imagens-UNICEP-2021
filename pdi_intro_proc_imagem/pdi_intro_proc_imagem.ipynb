{
 "cells": [
  {
   "cell_type": "markdown",
   "id": "1858311c",
   "metadata": {
    "deletable": false,
    "editable": false,
    "nbgrader": {
     "cell_type": "markdown",
     "checksum": "ca7d1ea24c561e092ced27741c2be94a",
     "grade": false,
     "grade_id": "cell-88b3622d1525e437",
     "locked": true,
     "schema_version": 3,
     "solution": false,
     "task": false
    }
   },
   "source": [
    "# Dados do aluno\n",
    "Preencha seus dados nas variáveis da célula abaixo para continuar."
   ]
  },
  {
   "cell_type": "code",
   "execution_count": null,
   "id": "b2f5672a",
   "metadata": {},
   "outputs": [],
   "source": [
    "# Preencha seu nome e código do aluno aqui\n",
    "nome_aluno   = \"\"   # Substitua aqui pelo seu nome, exemplo:   nome_aluno = \"Edson Crosué das Dores\"\n",
    "codigo_aluno = None # Substitua aqui pelo seu código, exemplo: codigo_aluno = 1234567"
   ]
  },
  {
   "cell_type": "code",
   "execution_count": null,
   "id": "9becf319",
   "metadata": {
    "deletable": false,
    "editable": false,
    "nbgrader": {
     "cell_type": "code",
     "checksum": "294dc2e461b040b4812903047396d150",
     "grade": true,
     "grade_id": "cell-5ef577dcc9470d8c",
     "locked": true,
     "points": 0,
     "schema_version": 3,
     "solution": false,
     "task": false
    }
   },
   "outputs": [],
   "source": [
    "# Não alterar: célula reservada ao autograder\n",
    "assert nome_aluno != \"\" # Você precisa preencher seu nome no formulário\n",
    "assert codigo_aluno is not None # Você precisa preencher seu código de aluno"
   ]
  },
  {
   "cell_type": "markdown",
   "id": "9047e7c1",
   "metadata": {
    "deletable": false,
    "editable": false,
    "nbgrader": {
     "cell_type": "markdown",
     "checksum": "df73ab223a03539b70bd5efac39fd73b",
     "grade": false,
     "grade_id": "cell-f3a435339c781a64",
     "locked": true,
     "schema_version": 3,
     "solution": false,
     "task": false
    }
   },
   "source": [
    "# Instruções\n",
    "Neste notebook interativo, você irá aplicar os conceitos aprendidos da aula prática para manipular imagens usando Numpy e OpenCV. \n",
    "\n",
    "\n"
   ]
  },
  {
   "cell_type": "markdown",
   "id": "78bb600a",
   "metadata": {
    "deletable": false,
    "editable": false,
    "nbgrader": {
     "cell_type": "markdown",
     "checksum": "af0595de1e330f271a1a360bea2b0d01",
     "grade": false,
     "grade_id": "cell-aef30701e97fb1d6",
     "locked": true,
     "schema_version": 3,
     "solution": false,
     "task": false
    }
   },
   "source": [
    "# Exercício 1: Carregar o módulo cv2 e a imagem\n",
    "Para manipular imagens, é necessário primeiro carregá-las. Para carregar uma imagem, é necessário que você carregue o módulo `cv2` e, dele, usar a função `imread()`.\n",
    "\n",
    "No diretório deste caderno, você deve encontrar o arquivo `img_teste.jpg`. \n",
    "\n",
    "**Desta forma, carregue a imagem `img_teste.jpg` usando o módulo cv2 em escala de cinza.** Armazene o resultado na variável global `img_teste`."
   ]
  },
  {
   "cell_type": "code",
   "execution_count": null,
   "id": "7c5d588b",
   "metadata": {
    "deletable": false,
    "nbgrader": {
     "cell_type": "code",
     "checksum": "23a8de516ff3303d7130e3db994a7b96",
     "grade": false,
     "grade_id": "cell-69594658e5631105",
     "locked": false,
     "schema_version": 3,
     "solution": true,
     "task": false
    }
   },
   "outputs": [],
   "source": [
    "# YOUR CODE HERE\n",
    "raise NotImplementedError()"
   ]
  },
  {
   "cell_type": "markdown",
   "id": "c6fc267a",
   "metadata": {
    "deletable": false,
    "editable": false,
    "nbgrader": {
     "cell_type": "markdown",
     "checksum": "ba4df90191cc582fed332eacc7247497",
     "grade": false,
     "grade_id": "cell-5ae0eb92f6711ae9",
     "locked": true,
     "schema_version": 3,
     "solution": false,
     "task": false
    }
   },
   "source": [
    "### (Opcional) Visualize a imagem!\n",
    "O módulo `matplotlib.pyplot` permite visualizar gráficos em geral. Normalmente \"apelidado\" de `plt`, para visualizar imagens, o `pyplot` possui a função `imshow()`.\n",
    "\n",
    "**Utilizando o `pyplot` e o `imshow`, visualize a imagem carregada na célula abaixo.** Lembre-se que um dos parâmetros opcionais é o mapa de cores. Consulte o material de aula para alterar o mapa de cores para cinza."
   ]
  },
  {
   "cell_type": "code",
   "execution_count": null,
   "id": "c2ae1541",
   "metadata": {},
   "outputs": [],
   "source": [
    "# Opcional: coloque aqui o código para visualização"
   ]
  },
  {
   "cell_type": "code",
   "execution_count": null,
   "id": "051f2b6a",
   "metadata": {
    "deletable": false,
    "editable": false,
    "nbgrader": {
     "cell_type": "code",
     "checksum": "53cc841b5ae74278c0fdded6b727dab9",
     "grade": true,
     "grade_id": "cell-b742da505d545dc2",
     "locked": true,
     "points": 3,
     "schema_version": 3,
     "solution": false,
     "task": false
    }
   },
   "outputs": [],
   "source": [
    "# Não alterar: célula reservada ao autograder"
   ]
  },
  {
   "cell_type": "markdown",
   "id": "55254c23",
   "metadata": {
    "deletable": false,
    "editable": false,
    "nbgrader": {
     "cell_type": "markdown",
     "checksum": "691d7d6de372b2e737c5c59fcd386a8c",
     "grade": false,
     "grade_id": "cell-daf221cf54c36eb9",
     "locked": true,
     "schema_version": 3,
     "solution": false,
     "task": false
    }
   },
   "source": [
    "# Exercício 2: Região de Interesse\n",
    "A imagem de entrada possui alguns objetos que estão em cima da minha escrivaninha. Sabendo que o Mega-Man está localizado entre os pontos $(170,315)$ e $(262,450)$, **crie uma nova imagem recortada do Megaman a partir da imagem em `img_teste` e armazene em `img_sol_1`**. \n",
    "\n",
    "Chamamos a região de intereste (do recorte) de ROI (do inglês, *Region of Interest*).\n",
    "\n",
    "Considere que as linhas 170 e 262, e as colunas 315 e 450 estão inclusas na ROI."
   ]
  },
  {
   "cell_type": "code",
   "execution_count": null,
   "id": "dc5fb31e",
   "metadata": {
    "deletable": false,
    "nbgrader": {
     "cell_type": "code",
     "checksum": "440466bef44252107aa9011da012805c",
     "grade": false,
     "grade_id": "cell-c733fdf92389e6e5",
     "locked": false,
     "schema_version": 3,
     "solution": true,
     "task": false
    }
   },
   "outputs": [],
   "source": [
    "# Não alterar: célula reservada ao autograder\n",
    "# YOUR CODE HERE\n",
    "raise NotImplementedError()"
   ]
  },
  {
   "cell_type": "markdown",
   "id": "44f035c7",
   "metadata": {
    "deletable": false,
    "editable": false,
    "nbgrader": {
     "cell_type": "markdown",
     "checksum": "04c9daa58dfea8003e29d20444f7b3f8",
     "grade": false,
     "grade_id": "cell-d44605b7b201f297",
     "locked": true,
     "schema_version": 3,
     "solution": false,
     "task": false
    }
   },
   "source": [
    "### (Opcional) Visualize o resultado!\n",
    "Como resultado deste exercício, somente o Mega-Man deve aparecer na imagem."
   ]
  },
  {
   "cell_type": "code",
   "execution_count": null,
   "id": "d3e1add8",
   "metadata": {},
   "outputs": [],
   "source": [
    "# Opcional: coloque aqui o código para visualização"
   ]
  },
  {
   "cell_type": "code",
   "execution_count": null,
   "id": "dc8f9615",
   "metadata": {
    "deletable": false,
    "editable": false,
    "nbgrader": {
     "cell_type": "code",
     "checksum": "8f62a5d4483373cc1dfe5da6eecb0154",
     "grade": true,
     "grade_id": "cell-0213d2e97401cd8e",
     "locked": true,
     "points": 3,
     "schema_version": 3,
     "solution": false,
     "task": false
    }
   },
   "outputs": [],
   "source": [
    "# Não alterar: célula reservada ao autograder"
   ]
  },
  {
   "cell_type": "markdown",
   "id": "4f58be2e",
   "metadata": {
    "deletable": false,
    "editable": false,
    "nbgrader": {
     "cell_type": "markdown",
     "checksum": "833d11423ccae942dbfa82ffaf1c8999",
     "grade": false,
     "grade_id": "cell-3daddb24e4b381b2",
     "locked": true,
     "schema_version": 3,
     "solution": false,
     "task": false
    }
   },
   "source": [
    "# Exercício 3: Quantização\n",
    "O bisão Ferdinando, que aparece à esquerda na foto, acha que a imagem ficaria mais estilosa se estivesse quantizada. Faça um favor para ele e **implemente uma função que, dada uma imagem, retorna a mesma quantizada em 4 níveis de cor.** \n",
    "\n",
    "Considere que cada intervalo possui 64 níveis de cinza da imagem original."
   ]
  },
  {
   "cell_type": "code",
   "execution_count": null,
   "id": "f7752b34",
   "metadata": {
    "deletable": false,
    "nbgrader": {
     "cell_type": "code",
     "checksum": "2a792129bf8a0083e618f782cfd2f251",
     "grade": false,
     "grade_id": "cell-fb29c3851da405ef",
     "locked": false,
     "schema_version": 3,
     "solution": true,
     "task": false
    }
   },
   "outputs": [],
   "source": [
    "def quantiza(imagem) : \n",
    "    # YOUR CODE HERE\n",
    "    raise NotImplementedError()"
   ]
  },
  {
   "cell_type": "markdown",
   "id": "d67093b2",
   "metadata": {
    "deletable": false,
    "editable": false,
    "nbgrader": {
     "cell_type": "markdown",
     "checksum": "b9d52ef094231decd190ec3c4f7d2174",
     "grade": false,
     "grade_id": "cell-30a5c5b5693a8d46",
     "locked": true,
     "schema_version": 3,
     "solution": false,
     "task": false
    }
   },
   "source": [
    "### (Opcional) Visualize o resultado!\n",
    "A imagem resultante deve possuir somente 5 níveis de cor. Confira se o resultado possui menos cores que a imagem original."
   ]
  },
  {
   "cell_type": "code",
   "execution_count": null,
   "id": "d8c53292",
   "metadata": {},
   "outputs": [],
   "source": [
    "# Opcional: coloque aqui o código para visualização"
   ]
  },
  {
   "cell_type": "code",
   "execution_count": null,
   "id": "db315389",
   "metadata": {
    "deletable": false,
    "editable": false,
    "nbgrader": {
     "cell_type": "code",
     "checksum": "3571fa462932afdadb7f61587afdda30",
     "grade": true,
     "grade_id": "cell-dcb34e627758067a",
     "locked": true,
     "points": 4,
     "schema_version": 3,
     "solution": false,
     "task": false
    }
   },
   "outputs": [],
   "source": [
    "# Não alterar: célula reservada ao autograder"
   ]
  }
 ],
 "metadata": {
  "kernelspec": {
   "display_name": "Python 3",
   "language": "python",
   "name": "python3"
  },
  "language_info": {
   "codemirror_mode": {
    "name": "ipython",
    "version": 3
   },
   "file_extension": ".py",
   "mimetype": "text/x-python",
   "name": "python",
   "nbconvert_exporter": "python",
   "pygments_lexer": "ipython3",
   "version": "3.8.8"
  }
 },
 "nbformat": 4,
 "nbformat_minor": 5
}
