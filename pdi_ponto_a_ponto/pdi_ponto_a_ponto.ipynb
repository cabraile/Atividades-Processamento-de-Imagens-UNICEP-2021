{
 "cells": [
  {
   "cell_type": "markdown",
   "id": "a9ad0f2e",
   "metadata": {
    "deletable": false,
    "editable": false,
    "nbgrader": {
     "cell_type": "markdown",
     "checksum": "5038f36027aafe107361cb2cff59ef8c",
     "grade": false,
     "grade_id": "cell-8995cf0715a7d09e",
     "locked": true,
     "schema_version": 3,
     "solution": false,
     "task": false
    }
   },
   "source": [
    "# Dados do aluno\n",
    "Preencha seus dados nas variáveis da célula abaixo para continuar."
   ]
  },
  {
   "cell_type": "code",
   "execution_count": null,
   "id": "fa443bbe",
   "metadata": {},
   "outputs": [],
   "source": [
    "# Preencha seu nome e código do aluno aqui\n",
    "nome_aluno   = \"\"   # Substitua aqui pelo seu nome, exemplo:   nome_aluno = \"Edson Crosué das Dores\"\n",
    "codigo_aluno = None # Substitua aqui pelo seu código, exemplo: codigo_aluno = 1234567"
   ]
  },
  {
   "cell_type": "code",
   "execution_count": null,
   "id": "1f2124a6",
   "metadata": {
    "deletable": false,
    "editable": false,
    "nbgrader": {
     "cell_type": "code",
     "checksum": "27bd111b48f2acf0f44b93407df9f98f",
     "grade": true,
     "grade_id": "cell-c793cbd7fc6e3395",
     "locked": true,
     "points": 0,
     "schema_version": 3,
     "solution": false,
     "task": false
    }
   },
   "outputs": [],
   "source": [
    "# Não alterar: célula do auto-grader!\n",
    "assert nome_aluno != \"\" # Você precisa preencher seu nome no formulário\n",
    "assert codigo_aluno is not None # Você precisa preencher seu código de aluno"
   ]
  },
  {
   "cell_type": "markdown",
   "id": "a0b2bbf8",
   "metadata": {
    "deletable": false,
    "editable": false,
    "nbgrader": {
     "cell_type": "markdown",
     "checksum": "2438e44103969c480efa58ad494f8d76",
     "grade": false,
     "grade_id": "cell-cd2c568936cc1436",
     "locked": true,
     "schema_version": 3,
     "solution": false,
     "task": false
    }
   },
   "source": [
    "# Instruções\n",
    "Neste notebook interativo você irá implementar as transformações ponto a ponto vistos em aula."
   ]
  },
  {
   "cell_type": "markdown",
   "id": "e2e25277",
   "metadata": {
    "deletable": false,
    "editable": false,
    "nbgrader": {
     "cell_type": "markdown",
     "checksum": "12925fb175a44d0fd0ee453a503d235d",
     "grade": false,
     "grade_id": "cell-1b86ea4590b46485",
     "locked": true,
     "schema_version": 3,
     "solution": false,
     "task": false
    }
   },
   "source": [
    "# Exercício 1\n",
    "Neste notebook, você ira usar métodos dos módulos `cv2` e `numpy`. Carregue os módulos indicados na célula abaixo (carrege numpy com *alias* `np`)."
   ]
  },
  {
   "cell_type": "code",
   "execution_count": null,
   "id": "965c0aac",
   "metadata": {
    "deletable": false,
    "nbgrader": {
     "cell_type": "code",
     "checksum": "56df6433d85e7b5d09bfa6c70385946d",
     "grade": false,
     "grade_id": "cell-ba272cb1a8d17bec",
     "locked": false,
     "schema_version": 3,
     "solution": true,
     "task": false
    }
   },
   "outputs": [],
   "source": [
    "# YOUR CODE HERE\n",
    "raise NotImplementedError()"
   ]
  },
  {
   "cell_type": "code",
   "execution_count": null,
   "id": "bcd50955",
   "metadata": {
    "deletable": false,
    "editable": false,
    "nbgrader": {
     "cell_type": "code",
     "checksum": "3b18ebe96ac9e421fcb323b506620a4e",
     "grade": true,
     "grade_id": "cell-bbd938d9c508575d",
     "locked": true,
     "points": 0,
     "schema_version": 3,
     "solution": false,
     "task": false
    }
   },
   "outputs": [],
   "source": [
    "# Não alterar: célula do autograder!\n",
    "import sys\n",
    "assert \"numpy\" in sys.modules\n",
    "assert \"cv2\" in sys.modules"
   ]
  },
  {
   "cell_type": "markdown",
   "id": "94364648",
   "metadata": {
    "deletable": false,
    "editable": false,
    "nbgrader": {
     "cell_type": "markdown",
     "checksum": "9a5839581ef6dbcbb6b6211857df6ae3",
     "grade": false,
     "grade_id": "cell-0d7285f010054b3e",
     "locked": true,
     "schema_version": 3,
     "solution": false,
     "task": false
    }
   },
   "source": [
    "# Exercício 2\n",
    "Implemente uma função que, dado uma imagem e o número de níveis de cor dela, retorne o seu histograma como um array numpy.\n",
    "\n",
    "**Dica 1.** Inicie seu array com zeros e `dtype=\"int\"` (vetor de inteiros).\n",
    "\n",
    "**Dica 2.** Você vai precisar de dois laços para acessar cada elemento da imagem: um para acessar cada linha e outro para cada coluna."
   ]
  },
  {
   "cell_type": "code",
   "execution_count": null,
   "id": "444ff8ff",
   "metadata": {
    "deletable": false,
    "nbgrader": {
     "cell_type": "code",
     "checksum": "51f2448f1c92558ee6117e5e4c948dac",
     "grade": false,
     "grade_id": "cell-4344b521926a333f",
     "locked": false,
     "schema_version": 3,
     "solution": true,
     "task": false
    }
   },
   "outputs": [],
   "source": [
    "def histograma(imagem, numero_niveis):\n",
    "    # YOUR CODE HERE\n",
    "    raise NotImplementedError()"
   ]
  },
  {
   "cell_type": "code",
   "execution_count": null,
   "id": "d75f91a5",
   "metadata": {
    "deletable": false,
    "editable": false,
    "nbgrader": {
     "cell_type": "code",
     "checksum": "1fa8c46bdd3df84b09c1cfebf9971769",
     "grade": true,
     "grade_id": "cell-902b06957282d6e9",
     "locked": true,
     "points": 2,
     "schema_version": 3,
     "solution": false,
     "task": false
    }
   },
   "outputs": [],
   "source": [
    "# Não alterar: célula do autograder!\n",
    "_grader_test = np.array([\n",
    "    [1,2,3],\n",
    "    [0,0,1],\n",
    "    [1,1,3]\n",
    "])\n",
    "_grader_hist = np.array([2,4,1,2])\n",
    "assert np.all( histograma(_grader_test,4) == _grader_hist ) # No caso de teste o histograma calculado diverge do histograma esperado!\n"
   ]
  },
  {
   "cell_type": "markdown",
   "id": "bf0aca5f",
   "metadata": {
    "deletable": false,
    "editable": false,
    "nbgrader": {
     "cell_type": "markdown",
     "checksum": "e456d0ed59da410dbf6550bd68dfec52",
     "grade": false,
     "grade_id": "cell-5907cdef8c6e3e1b",
     "locked": true,
     "schema_version": 3,
     "solution": false,
     "task": false
    }
   },
   "source": [
    "# Exercício 3\n",
    "Implemente uma função que faz inversão da cor dos pixels de uma imagem em escala de cinza. Assuma que o valor máximo que uma imagem em escala de cinza pode possuir é 255.\n",
    "\n",
    "**Dica:** não é necessário usar um laço para a implementação. Para facilitar sua vida, use o que foi ensinado na primeira aula sobre operações entre matrizes e escalares usando Numpy."
   ]
  },
  {
   "cell_type": "code",
   "execution_count": null,
   "id": "ae3d56f8",
   "metadata": {
    "deletable": false,
    "nbgrader": {
     "cell_type": "code",
     "checksum": "63109860d28e6aff933298ca92cfb1e4",
     "grade": false,
     "grade_id": "cell-98e518b475a6eddf",
     "locked": false,
     "schema_version": 3,
     "solution": true,
     "task": false
    }
   },
   "outputs": [],
   "source": [
    "def inverte_imagem(imagem):\n",
    "    # YOUR CODE HERE\n",
    "    raise NotImplementedError()"
   ]
  },
  {
   "cell_type": "code",
   "execution_count": null,
   "id": "acf85c74",
   "metadata": {},
   "outputs": [],
   "source": [
    "# OPCIONAL: Implemente a visualização para o método implementado aqui!\n",
    "# Carregue a imagem 'img_teste.jpg' para visualizar"
   ]
  },
  {
   "cell_type": "code",
   "execution_count": null,
   "id": "99e73ac0",
   "metadata": {
    "deletable": false,
    "editable": false,
    "nbgrader": {
     "cell_type": "code",
     "checksum": "3ee72f627beb265379ba3ba9d2743334",
     "grade": true,
     "grade_id": "cell-d4806f00dbdd84d0",
     "locked": true,
     "points": 1,
     "schema_version": 3,
     "solution": false,
     "task": false
    }
   },
   "outputs": [],
   "source": [
    "_grader_test = np.array([\n",
    "    [0,1,1],\n",
    "    [0,0,1],\n",
    "    [1,1,1]\n",
    "])\n",
    "_grader_inv  = np.array([\n",
    "    [255,254,254],\n",
    "    [255,255,254],\n",
    "    [254,254,254]\n",
    "])\n",
    "assert np.all( inverte_imagem(_grader_test) == _grader_inv ) # A inversão fornecida não é a esperada!\n",
    "\n"
   ]
  },
  {
   "cell_type": "markdown",
   "id": "5552a40c",
   "metadata": {
    "deletable": false,
    "editable": false,
    "nbgrader": {
     "cell_type": "markdown",
     "checksum": "da0804f1603ff13e622fde2781bdf9cc",
     "grade": false,
     "grade_id": "cell-cf9aac57e60497f5",
     "locked": true,
     "schema_version": 3,
     "solution": false,
     "task": false
    }
   },
   "source": [
    "# Exercício 4\n",
    "Para manipular imagens unsando operações não-lineares, normalmente normalizamos os pixels da imagem entre `0` e `1`, de forma que os pixels que possuem o menor valor (normalmente 0) passam a valer 0 e os pixels de maior valor (normalmente 255) passam a valer 1.\n",
    "\n",
    "A expressão genérica para normalizar os elementos de um vetor entre `0` e `1` é\n",
    "$x_{norm} = \\frac{x - min}{max - min}$. No caso das imagens usadas em aula, $min = 0$ e $max = 255$, então para normalizar os pixels de uma imagem usamos\n",
    "\n",
    "$$\n",
    "I_{norm}[i,j] = \\frac{I[i,j]}{255}\n",
    "$$\n",
    "\n",
    "Sabendo disso, implemente uma função que recebe uma imagem em escala de cinza e que retorna a imagem normalizada.\n",
    "\n",
    "**Dica:** para facilitar, utilize as operações fornecidas em aula entre escalares e matrizes."
   ]
  },
  {
   "cell_type": "code",
   "execution_count": null,
   "id": "b696b085",
   "metadata": {
    "deletable": false,
    "nbgrader": {
     "cell_type": "code",
     "checksum": "7191e3d07aaaaeccaaf7c2082e332688",
     "grade": false,
     "grade_id": "cell-b933bf239ca4e477",
     "locked": false,
     "schema_version": 3,
     "solution": true,
     "task": false
    }
   },
   "outputs": [],
   "source": [
    "def normalize(imagem):\n",
    "    # YOUR CODE HERE\n",
    "    raise NotImplementedError()"
   ]
  },
  {
   "cell_type": "code",
   "execution_count": null,
   "id": "494bf859",
   "metadata": {
    "deletable": false,
    "editable": false,
    "nbgrader": {
     "cell_type": "code",
     "checksum": "47e0557cb9b14c40c63840698977eb3d",
     "grade": true,
     "grade_id": "cell-65fc36d135697985",
     "locked": true,
     "points": 1,
     "schema_version": 3,
     "solution": false,
     "task": false
    }
   },
   "outputs": [],
   "source": [
    "# Não alterar: célula do autograder!\n",
    "_grader_test = np.array([\n",
    "    [255, 0, 153],\n",
    "    [102, 51, 0],\n",
    "    [0, 255, 255]\n",
    "])\n",
    "_grader_answer = np.array([\n",
    "    [1., 0., 0.6],\n",
    "    [0.4, 0.2, 0.],\n",
    "    [0., 1., 1.]\n",
    "])\n",
    "assert np.all( \n",
    "    np.isclose(normalize(_grader_test), _grader_answer ) \n",
    ")\n"
   ]
  },
  {
   "cell_type": "markdown",
   "id": "726525f7",
   "metadata": {
    "deletable": false,
    "editable": false,
    "nbgrader": {
     "cell_type": "markdown",
     "checksum": "e25d04535255b6eab91f7974d64ba6bd",
     "grade": false,
     "grade_id": "cell-c8b20b1ba6ab30ed",
     "locked": true,
     "schema_version": 3,
     "solution": false,
     "task": false
    }
   },
   "source": [
    "# Exercício 5\n",
    "Com uma imagem normalizada podemos aplicar as operações não-lineares de nosso interesse.\n",
    "Sabendo disso, **implemente a função que aplica a correção gamma em uma imagem.**\n",
    "\n",
    "Comece normalizando a imagem usando a instrução do exercício anterior, aplique a correção gamma sobre a matriz normalizada e reescale os pixels para que os valores fiquem entre 0 e 255. Para isso, basta multiplicar cada pixel da imagem por 255 (utilize as operações entre escalar e matriz do numpy para facilitar.\n",
    "\n",
    "Por fim, converta a matriz (que terá elementos do tipo `float`) para inteiro usando o método `astype(dtype)` com parâmetro `dtype=\"int\"`, por exemplo: `matriz_int = matriz.astype(dtype)`."
   ]
  },
  {
   "cell_type": "code",
   "execution_count": null,
   "id": "cf731f43",
   "metadata": {
    "deletable": false,
    "nbgrader": {
     "cell_type": "code",
     "checksum": "b09abbba8219bad640ddd2aac5e1e4a5",
     "grade": false,
     "grade_id": "cell-4a411be102af15c2",
     "locked": false,
     "schema_version": 3,
     "solution": true,
     "task": false
    }
   },
   "outputs": [],
   "source": [
    "def gamma(imagem, gamma, contraste):\n",
    "    # YOUR CODE HERE\n",
    "    raise NotImplementedError()"
   ]
  },
  {
   "cell_type": "markdown",
   "id": "9cf0b630",
   "metadata": {
    "deletable": false,
    "editable": false,
    "nbgrader": {
     "cell_type": "markdown",
     "checksum": "c56331523eb0150bb31831bc121a5e7d",
     "grade": false,
     "grade_id": "cell-5b868798e541973f",
     "locked": true,
     "schema_version": 3,
     "solution": false,
     "task": false
    }
   },
   "source": [
    "Vamos visualizar como fica a aplicação da sua implementação. Rode a célula abaixo para ver."
   ]
  },
  {
   "cell_type": "code",
   "execution_count": null,
   "id": "f365c6c1",
   "metadata": {
    "deletable": false,
    "editable": false,
    "nbgrader": {
     "cell_type": "code",
     "checksum": "a0d4020cfaf465f8ef4eefe9515071a1",
     "grade": false,
     "grade_id": "cell-e34edf71d4effe3e",
     "locked": true,
     "schema_version": 3,
     "solution": false,
     "task": false
    }
   },
   "outputs": [],
   "source": [
    "# Carrega a imagem original\n",
    "_img_teste = cv2.imread(\"img_teste.png\",0)\n",
    "\n",
    "# Carrega o matplotlib - caso não houvesse sido carregado antes\n",
    "import matplotlib.pyplot as plt\n",
    "\n",
    "# Gera uma figura com 3 plots\n",
    "fig, axs = plt.subplots(nrows=2, ncols=3, figsize=(20,10))\n",
    "\n",
    "# Remove os eixos\n",
    "for j in range(3):\n",
    "    axs[0,j].tick_params(\n",
    "        left = False, right = False , labelleft = False, labelbottom = False, bottom = False\n",
    "    )\n",
    "\n",
    "# Plot da imagem original\n",
    "axs[0,0].set_title(\"Imagem original\")\n",
    "axs[0,0].imshow(_img_teste, cmap=\"gray\", vmin=0, vmax=255)\n",
    "# Plot da correção gamma com gamma = 2\n",
    "axs[0,1].set_title(\"Aplicação de gamma=2, contraste=1\")\n",
    "axs[0,1].imshow(gamma(_img_teste,2,1), cmap=\"gray\", vmin=0, vmax=255)\n",
    "# Plot da correção gamma com gamma = 0.5\n",
    "axs[0,2].set_title(\"Aplicação de gamma=0.5, contraste=1\")\n",
    "axs[0,2].imshow(gamma(_img_teste,0.5,1), cmap=\"gray\", vmin=0, vmax=255)\n",
    "# Plot do histograma da imagem original\n",
    "axs[1,0].set_title(\"Histograma da imagem original\")\n",
    "axs[1,0].bar(np.arange(256), histograma(_img_teste, 256))\n",
    "# Plot do histograma da correção gamma com gamma = 2\n",
    "axs[1,1].set_title(\"Histograma da aplicação de gamma=2, contraste=1\")\n",
    "axs[1,1].bar(np.arange(256), histograma(gamma(_img_teste,2,1), 256))\n",
    "# Plot do histograma da correção gamma com gamma = 0.5\n",
    "axs[1,2].set_title(\"Histograma da aplicação de gamma=0.5, contraste=1\")\n",
    "axs[1,2].bar(np.arange(256), histograma(gamma(_img_teste,0.5,1), 256))\n",
    "# Mostrar os plot\n",
    "plt.show()"
   ]
  },
  {
   "cell_type": "markdown",
   "id": "d7c88eb9",
   "metadata": {
    "deletable": false,
    "editable": false,
    "nbgrader": {
     "cell_type": "markdown",
     "checksum": "3b1fe6caec091d80e77e78cc59338114",
     "grade": false,
     "grade_id": "cell-42d81c00075ba32d",
     "locked": true,
     "schema_version": 3,
     "solution": false,
     "task": false
    }
   },
   "source": [
    "Perceba que ao aplicar `gamma = 2` o contraste aumentou entre as partes mais claras, mas os pixels mais escuros ficaram mais difíceis de serem visualizados. Por outro lado, com `gamma = 0.5`, os pixels mais escuros ficaram muito melhores de serem visualizados, mas os mais claros ficaram mais difíceis de serem visualizados."
   ]
  },
  {
   "cell_type": "code",
   "execution_count": null,
   "id": "bf3c7166",
   "metadata": {
    "deletable": false,
    "editable": false,
    "nbgrader": {
     "cell_type": "code",
     "checksum": "0f918ae4a12fd3f6fd6f0dfe71587668",
     "grade": true,
     "grade_id": "cell-74c071b88ba48d28",
     "locked": true,
     "points": 2,
     "schema_version": 3,
     "solution": false,
     "task": false
    }
   },
   "outputs": [],
   "source": [
    "# Não alterar: célula do autograder!\n",
    "_grader_test = np.array([\n",
    "    [255, 0, 153],\n",
    "    [102, 51, 0],\n",
    "    [0, 255, 255]\n",
    "])\n",
    "_grader_answer = np.array([\n",
    "    [255, 0, 91],\n",
    "    [40, 10, 0],\n",
    "    [0, 255, 255]\n",
    "])\n",
    "assert np.all( \n",
    "    np.isclose(gamma(_grader_test, 2, 1), _grader_answer ) \n",
    ")\n"
   ]
  },
  {
   "cell_type": "markdown",
   "id": "f750070f",
   "metadata": {
    "deletable": false,
    "editable": false,
    "nbgrader": {
     "cell_type": "markdown",
     "checksum": "e2ac81ef44b10cdc6f13d2c2a9413e59",
     "grade": false,
     "grade_id": "cell-3c40c7626c3ffae0",
     "locked": true,
     "schema_version": 3,
     "solution": false,
     "task": false
    }
   },
   "source": [
    "# Exercício 6 - Parte 1\n",
    "Outra forma de transformar os pontos de uma imagem é por meio da transformação linear. Para cada ponto da imagem, dado um brilho `b` (inteiro) e o contraste `c` (inteiro), calculamos a imagem transformada por\n",
    "$$\n",
    "\\tilde{I}_{nova}[i,j] = b + c \\cdot I[i,j]\n",
    "$$\n",
    "\n",
    "**Implemente a função que calcula a transformação linear dada uma imagem de entrada.** Para facilitar, utilize as operações entre escalar e matriz suportadas pelo `Numpy`.\n",
    "\n",
    "**Observação:** Como a imagem de entrada terá tipo `uint8` (ou seja, valores entre 0 e 255), é necessário converter para outro tipo que aceite números negativos e maiores que 255. Desta forma, converta a imagem de entrada para `float` usando `imagem_float = imagem.astype(\"float\")`."
   ]
  },
  {
   "cell_type": "code",
   "execution_count": null,
   "id": "5fc6bbe2",
   "metadata": {
    "deletable": false,
    "nbgrader": {
     "cell_type": "code",
     "checksum": "b585072d561731ef1648d0c2f4718ff0",
     "grade": false,
     "grade_id": "cell-68e3436a2662ccfb",
     "locked": false,
     "schema_version": 3,
     "solution": true,
     "task": false
    }
   },
   "outputs": [],
   "source": [
    "def linear(imagem, brilho, contraste):\n",
    "    # YOUR CODE HERE\n",
    "    raise NotImplementedError()"
   ]
  },
  {
   "cell_type": "markdown",
   "id": "63ef7d51",
   "metadata": {
    "deletable": false,
    "editable": false,
    "nbgrader": {
     "cell_type": "markdown",
     "checksum": "1fa45bebdd61fb6118b713bcf720a08c",
     "grade": false,
     "grade_id": "cell-9f442c576c700d6b",
     "locked": true,
     "schema_version": 3,
     "solution": false,
     "task": false
    }
   },
   "source": [
    "# Exercício 6 - Parte 2\n",
    "A imagem resultante, $\\tilde{I}_{nova}$, pode ter valores acima de 255 ou abaixo de 0. Desta forma, precisamos **saturar** a imagem após a transformação, de forma que os valores acima de 255 se tornem 255 e os abaixo de 0 se tornem 0, ou seja\n",
    "$$\n",
    "I_{nova} = \\left\\{\\begin{matrix}\n",
    "0, & \\tilde{I}_{nova}[i,j] < 0\\\\ \n",
    "255, & \\tilde{I}_{nova}[i,j] > 255 \\\\\n",
    "I_{nova}[i,j], & \\text{caso contrário}\n",
    "\\end{matrix}\\right.\n",
    "$$\n",
    "\n",
    "**Implemente uma função que aplique a saturação em uma imagem recebida e retorne a imagem saturada.**\n",
    "\n",
    "**Dica:** Caso opte por fazer pixel a pixel, \n",
    "* Crie primeiro uma matriz de tamanho idêntico à matriz de entrada e itere por cada linha e cada coluna da matriz de entrada. \n",
    "* Para cada posição em linha e coluna, verifique se o pixel é maior do que 255 e atribua para a matriz de saída o valor 255. \n",
    "* Para os casos em que o pixel é menor que 0, atribua 0. \n",
    "* Para os demais casos basta atribuir o valor da matriz de entrada naquela posição.\n",
    "\n",
    "**Dica:** Caso opte usar a lógica de slicing (RECOMENDADO)\n",
    "* Para não editar a imagem de entrada, precisamos de uma cópia dela, mas de tipo \"uint8\". Para isso, crie a variável da imagem de saída como uma matriz vazia de mesmas dimensões que a imagem de entrada: `imagem_saida = np.empty_like(imagem, dtype=\"uint8\")`. \n",
    "* Em seguida, para copiar os elementos da imagem de entrada para a imagem de saída use: `imagem_saida[:] = imagem`\n",
    "* Verifique em quais posições da **matriz de entrada** a imagem é maior que 255 e armazene em uma variável. Isso pode ser feito, por exemplo, da seguinte forma: `posicoes = np.where(matriz_entrada > 255)`. Isto retorna todas as posições em que a matriz de entrada é maior que 255.\n",
    "* Use essa variável como entrada para os índices da **matriz de saída** e atribua 255 à matriz. Por exemplo, `matriz_saida[posicoes] = 255`.\n",
    "* Repita os dois últimos passos para os valores menores que 0."
   ]
  },
  {
   "cell_type": "code",
   "execution_count": null,
   "id": "caf6747d",
   "metadata": {
    "deletable": false,
    "nbgrader": {
     "cell_type": "code",
     "checksum": "d0cee574b532f4079e599c5741486fee",
     "grade": false,
     "grade_id": "cell-3be8f5adde804e84",
     "locked": false,
     "schema_version": 3,
     "solution": true,
     "task": false
    }
   },
   "outputs": [],
   "source": [
    "def satura(imagem):\n",
    "    # YOUR CODE HERE\n",
    "    raise NotImplementedError()"
   ]
  },
  {
   "cell_type": "markdown",
   "id": "6d139797",
   "metadata": {
    "deletable": false,
    "editable": false,
    "nbgrader": {
     "cell_type": "markdown",
     "checksum": "da7154603bec9410002812c9925ed706",
     "grade": false,
     "grade_id": "cell-6abaab6903d21004",
     "locked": true,
     "schema_version": 3,
     "solution": false,
     "task": false
    }
   },
   "source": [
    "Vamos visualizar a aplicação da transformação linear na imagem de teste **variando somente o brilho**."
   ]
  },
  {
   "cell_type": "code",
   "execution_count": null,
   "id": "47311ef3",
   "metadata": {
    "deletable": false,
    "editable": false,
    "nbgrader": {
     "cell_type": "code",
     "checksum": "4ba47680325af21a486cb3609b207d48",
     "grade": false,
     "grade_id": "cell-b2f328fde4d267af",
     "locked": true,
     "schema_version": 3,
     "solution": false,
     "task": false
    }
   },
   "outputs": [],
   "source": [
    "# Carrega a imagem original\n",
    "_img_teste = cv2.imread(\"img_teste.png\",0)\n",
    "\n",
    "# Carrega o matplotlib - caso não houvesse sido carregado antes\n",
    "import matplotlib.pyplot as plt\n",
    "\n",
    "# Gera uma figura\n",
    "fig, axs = plt.subplots(nrows=2, ncols=3, figsize=(20,10))\n",
    "\n",
    "# Remove os eixos\n",
    "for j in range(3):\n",
    "    axs[0,j].tick_params(\n",
    "        left = False, right = False , labelleft = False, labelbottom = False, bottom = False\n",
    "    )\n",
    "    \n",
    "_brilhos = [0, 50, -10]\n",
    "for j in range(3):\n",
    "    _img_proc = satura( linear(_img_teste, _brilhos[j], 1) )\n",
    "    axs[0,j].set_title(f\"Brilho: {_brilhos[j]}\")\n",
    "    axs[0,j].imshow(_img_proc, cmap=\"gray\", vmin=0, vmax=255)\n",
    "    axs[1,j].set_title(f\"Histograma da aplicação de brilho={_brilhos[j]}\")\n",
    "    axs[1,j].bar(np.arange(256), histograma(_img_proc, 256))\n",
    "    \n",
    "# Mostrar os plot\n",
    "plt.show()"
   ]
  },
  {
   "cell_type": "markdown",
   "id": "d6cb3206",
   "metadata": {
    "deletable": false,
    "editable": false,
    "nbgrader": {
     "cell_type": "markdown",
     "checksum": "c27bbe4b249d07c07975c7bcdae886b4",
     "grade": false,
     "grade_id": "cell-4593f01d1ceed8bc",
     "locked": true,
     "schema_version": 3,
     "solution": false,
     "task": false
    }
   },
   "source": [
    "Perceba que as alterações no brilho somente deslocaram o histograma para os lados. No caso do `brilho=50`, como muitos pixels foram saturados, existe um pico no valor `255`.\n",
    "\n",
    "Agora vamos avaliar as mudanças no contraste"
   ]
  },
  {
   "cell_type": "code",
   "execution_count": null,
   "id": "4d227ddb",
   "metadata": {
    "deletable": false,
    "editable": false,
    "nbgrader": {
     "cell_type": "code",
     "checksum": "1c3e17c93336688bccb124e833b5c826",
     "grade": false,
     "grade_id": "cell-4920388d3b121b5a",
     "locked": true,
     "schema_version": 3,
     "solution": false,
     "task": false
    }
   },
   "outputs": [],
   "source": [
    "# Carrega a imagem original\n",
    "_img_teste = cv2.imread(\"img_teste.png\",0)\n",
    "\n",
    "# Carrega o matplotlib - caso não houvesse sido carregado antes\n",
    "import matplotlib.pyplot as plt\n",
    "\n",
    "# Gera uma figura\n",
    "fig, axs = plt.subplots(nrows=2, ncols=3, figsize=(20,10))\n",
    "\n",
    "# Remove os eixos\n",
    "for j in range(3):\n",
    "    axs[0,j].tick_params(\n",
    "        left = False, right = False , labelleft = False, labelbottom = False, bottom = False\n",
    "    )\n",
    "    \n",
    "_contrastes = [1.0, 1.5, 0.5]\n",
    "for j in range(3):\n",
    "    _img_proc = satura( linear(_img_teste, 0, _contrastes[j]) )\n",
    "    axs[0,j].set_title(f\"Contraste: {_contrastes[j]}\")\n",
    "    axs[0,j].imshow(_img_proc, cmap=\"gray\", vmin=0, vmax=255)\n",
    "    axs[1,j].set_title(f\"Histograma da aplicação de contraste={_contrastes[j]}\")\n",
    "    axs[1,j].bar(np.arange(256), histograma(_img_proc, 256))\n",
    "    \n",
    "# Mostrar os plot\n",
    "plt.show()"
   ]
  },
  {
   "cell_type": "markdown",
   "id": "b4355a3b",
   "metadata": {
    "deletable": false,
    "editable": false,
    "nbgrader": {
     "cell_type": "markdown",
     "checksum": "03d2bf9afafb588088c2a01de1db49c8",
     "grade": false,
     "grade_id": "cell-53ce1e2cfab76473",
     "locked": true,
     "schema_version": 3,
     "solution": false,
     "task": false
    }
   },
   "source": [
    "Perceba que aumentar o contraste (`contraste=1.5`) fez com que o histograma se \"esticasse\", enquanto diminuir o contraste (`contraste=0.5`) fez com que o histograma se \"apertasse\". "
   ]
  },
  {
   "cell_type": "code",
   "execution_count": null,
   "id": "6d916f31",
   "metadata": {
    "deletable": false,
    "editable": false,
    "nbgrader": {
     "cell_type": "code",
     "checksum": "9382159d7ac5b3f6162f9f0e0c6c0e02",
     "grade": true,
     "grade_id": "cell-9f9728f560d98fed",
     "locked": true,
     "points": 3,
     "schema_version": 3,
     "solution": false,
     "task": false
    }
   },
   "outputs": [],
   "source": [
    "# Não alterar: célula do autograder!\n",
    "_grader_test = np.array([\n",
    "    [200, 0, 100],\n",
    "    [100, 20, 0],\n",
    "    [0, 200, 200]\n",
    "])\n",
    "_param_brilho = -20\n",
    "_param_contraste = 1.5\n",
    "_given_answer = satura( linear( _grader_test, _param_brilho, _param_contraste ) )\n",
    "_grader_answer = np.array([\n",
    "    [255, 0, 130],\n",
    "    [130, 10, 0],\n",
    "    [0, 255, 255]\n",
    "])\n",
    "assert np.all( \n",
    "    np.isclose(\n",
    "        _given_answer, _grader_answer \n",
    "    ) \n",
    ")\n"
   ]
  },
  {
   "cell_type": "markdown",
   "id": "9db82d5a",
   "metadata": {
    "deletable": false,
    "editable": false,
    "nbgrader": {
     "cell_type": "markdown",
     "checksum": "b9bef604d1b05164837c09d8d48ca293",
     "grade": false,
     "grade_id": "cell-bc699615051771ef",
     "locked": true,
     "schema_version": 3,
     "solution": false,
     "task": false
    }
   },
   "source": [
    "# Exercício 7\n",
    "A imagem de entrada do exercício anterior (`_img_teste`) possui baixo contraste e é prejudicada pela iluminação no céu. Uma técnica muito usada para resolver este tipo de problema é o de **equalização de histogramas**.\n",
    "\n",
    "Neste exercício, você irá usar a função pronta do OpenCV `cv2.equalizeHist`, a qual recebe a imagem a ser equalizada como parâmetro e retorna a imagem equalizada. Armazene o resultado na variável `img_teste_equ`."
   ]
  },
  {
   "cell_type": "code",
   "execution_count": null,
   "id": "b700c0c7",
   "metadata": {
    "deletable": false,
    "nbgrader": {
     "cell_type": "code",
     "checksum": "698e9c0d01dfe62d9943b5bf1ae193cf",
     "grade": false,
     "grade_id": "cell-58a23206f9b4b054",
     "locked": false,
     "schema_version": 3,
     "solution": true,
     "task": false
    }
   },
   "outputs": [],
   "source": [
    "# YOUR CODE HERE\n",
    "raise NotImplementedError()"
   ]
  },
  {
   "cell_type": "markdown",
   "id": "7a4891fc",
   "metadata": {
    "deletable": false,
    "editable": false,
    "nbgrader": {
     "cell_type": "markdown",
     "checksum": "e459c21754ac3e57bc0e65d827662169",
     "grade": false,
     "grade_id": "cell-80279289ba94a743",
     "locked": true,
     "schema_version": 3,
     "solution": false,
     "task": false
    }
   },
   "source": [
    "Ok, agora vamos visualizar os resultados"
   ]
  },
  {
   "cell_type": "code",
   "execution_count": null,
   "id": "0addcb51",
   "metadata": {
    "deletable": false,
    "editable": false,
    "nbgrader": {
     "cell_type": "code",
     "checksum": "9cb877f71066cc5c5dd356094b4884a4",
     "grade": false,
     "grade_id": "cell-aeb1eeba4bd9bda6",
     "locked": true,
     "schema_version": 3,
     "solution": false,
     "task": false
    }
   },
   "outputs": [],
   "source": [
    "# Gera uma figura\n",
    "fig, axs = plt.subplots(nrows=2, ncols=2, figsize=(20,10))\n",
    "\n",
    "# Remove os eixos\n",
    "for j in range(2):\n",
    "    axs[0,j].tick_params(\n",
    "        left = False, right = False , labelleft = False, labelbottom = False, bottom = False\n",
    "    )\n",
    "    \n",
    "axs[0,0].set_title(f\"Imagem original\")\n",
    "axs[0,0].imshow(_img_teste, cmap=\"gray\", vmin=0, vmax=255)\n",
    "axs[1,0].set_title(f\"Histograma da imagem original\")\n",
    "axs[1,0].bar(np.arange(256), histograma(_img_teste, 256))\n",
    "\n",
    "axs[0,1].set_title(f\"Imagem equalizada\")\n",
    "axs[0,1].imshow(img_teste_equ, cmap=\"gray\", vmin=0, vmax=255)\n",
    "axs[1,1].set_title(f\"Histograma da imagem equalizada\")\n",
    "axs[1,1].bar(np.arange(256), histograma(img_teste_equ, 256))\n",
    "    \n",
    "# Mostrar os plot\n",
    "plt.show()"
   ]
  },
  {
   "cell_type": "code",
   "execution_count": null,
   "id": "d95dd70f",
   "metadata": {
    "deletable": false,
    "editable": false,
    "nbgrader": {
     "cell_type": "code",
     "checksum": "8070f0f890a95a90e9cf39e562eade8c",
     "grade": true,
     "grade_id": "cell-c3662062b5b717a7",
     "locked": true,
     "points": 1,
     "schema_version": 3,
     "solution": false,
     "task": false
    }
   },
   "outputs": [],
   "source": []
  }
 ],
 "metadata": {
  "kernelspec": {
   "display_name": "Python 3 (ipykernel)",
   "language": "python",
   "name": "python3"
  },
  "language_info": {
   "codemirror_mode": {
    "name": "ipython",
    "version": 3
   },
   "file_extension": ".py",
   "mimetype": "text/x-python",
   "name": "python",
   "nbconvert_exporter": "python",
   "pygments_lexer": "ipython3",
   "version": "3.8.8"
  }
 },
 "nbformat": 4,
 "nbformat_minor": 5
}
