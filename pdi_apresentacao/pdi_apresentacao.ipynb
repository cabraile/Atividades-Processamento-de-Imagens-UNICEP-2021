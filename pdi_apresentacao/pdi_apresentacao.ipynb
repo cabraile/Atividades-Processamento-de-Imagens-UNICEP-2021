{
 "cells": [
  {
   "cell_type": "markdown",
   "id": "799b53a3",
   "metadata": {
    "deletable": false,
    "editable": false,
    "nbgrader": {
     "cell_type": "markdown",
     "checksum": "c023ed7031a7ea332e8db0b9a32f02ab",
     "grade": false,
     "grade_id": "cell-3fd1e4e80617bf34",
     "locked": true,
     "schema_version": 3,
     "solution": false,
     "task": false
    }
   },
   "source": [
    "# Sobre\n",
    "Este notebook visa apresentar o sistema de avaliações da parte prática da disciplina."
   ]
  },
  {
   "cell_type": "markdown",
   "id": "21135809",
   "metadata": {
    "deletable": false,
    "editable": false,
    "nbgrader": {
     "cell_type": "markdown",
     "checksum": "723a0e66d75a9e03b913523d6b6ac7bc",
     "grade": false,
     "grade_id": "cell-083973e9a6171c4e",
     "locked": true,
     "schema_version": 3,
     "solution": false,
     "task": false
    }
   },
   "source": [
    "# Identificação\n",
    "Em todos os notebooks, você terá de se identificar antes de prosseguir para as próximas questões. Altere o valor das variáveis `nome_aluno` e `codigo_aluno` para seu nome (string) e seu código (int)."
   ]
  },
  {
   "cell_type": "code",
   "execution_count": null,
   "id": "41566bc3",
   "metadata": {},
   "outputs": [],
   "source": [
    "# Preencha seu nome e código do aluno aqui\n",
    "nome_aluno   = \"\"   # Substitua aqui pelo seu nome, exemplo:   nome_aluno = \"Edson Crosué das Dores\"\n",
    "codigo_aluno = None # Substitua aqui pelo seu código, exemplo: codigo_aluno = 1234567"
   ]
  },
  {
   "cell_type": "markdown",
   "id": "af0283af",
   "metadata": {
    "deletable": false,
    "editable": false,
    "nbgrader": {
     "cell_type": "markdown",
     "checksum": "22b68f27596f5644cde5ac65c7e5014a",
     "grade": false,
     "grade_id": "cell-228aa17efad19243",
     "locked": true,
     "schema_version": 3,
     "solution": false,
     "task": false
    }
   },
   "source": [
    "Caso não preencha esses dados, a célula seguinte irá executar com erros."
   ]
  },
  {
   "cell_type": "code",
   "execution_count": null,
   "id": "191f6418",
   "metadata": {
    "deletable": false,
    "editable": false,
    "nbgrader": {
     "cell_type": "code",
     "checksum": "da3540f2e58b69952624403ca8e1c87f",
     "grade": true,
     "grade_id": "cell-93a7b68b991c46ce",
     "locked": true,
     "points": 0,
     "schema_version": 3,
     "solution": false,
     "task": false
    }
   },
   "outputs": [],
   "source": [
    "# Não alterar: célula reservada ao autograder\n",
    "assert nome_aluno != \"\" # Você precisa preencher seu nome no formulário\n",
    "assert codigo_aluno is not None # Você precisa preencher seu código de aluno"
   ]
  },
  {
   "cell_type": "markdown",
   "id": "b0d84491",
   "metadata": {
    "deletable": false,
    "editable": false,
    "nbgrader": {
     "cell_type": "markdown",
     "checksum": "a13e78ee747e37ccb373940b3e426cd4",
     "grade": false,
     "grade_id": "cell-30e195b00a8cfbf6",
     "locked": true,
     "schema_version": 3,
     "solution": false,
     "task": false
    }
   },
   "source": [
    "A célula acima é uma célula de teste do `autograder`, o sistema que avalia se as respostas estão de acordo com o esperado, e não é possível alterá-las.\n",
    "\n",
    "Essas células possuem dois tipos de testes: os testes públicos e os testes ocultos. Os **testes públicos** são visíveis para os alunos e avaliam de forma superficial se a resposta está correta.\n",
    "\n",
    "Para que não seja possível burlar os testes públicos - já que eles costumam dar algum indício do que deve ser a resposta -, existem os **testes privados**, os quais só podem ser vistos pelo professor.\n",
    "\n",
    "Os alunos são avaliados pelos dois testes, mas no notebook disponível para os alunos só é possível saber se foram aprovados nos testes públicos. Mas fique tranquilo: os testes privados foram feitos para só funcionarem se a implementação para os testes públicos estiver correta."
   ]
  },
  {
   "cell_type": "markdown",
   "id": "e0d22189",
   "metadata": {
    "deletable": false,
    "editable": false,
    "nbgrader": {
     "cell_type": "markdown",
     "checksum": "8e587dc52778824c56e9f13ef7394957",
     "grade": false,
     "grade_id": "cell-80142e947b16f36e",
     "locked": true,
     "schema_version": 3,
     "solution": false,
     "task": false
    }
   },
   "source": [
    "# Exemplo de Exercício\n",
    "Existem dois tipos de exercícios: os que as respostas são armazenadas em variáveis e os que as respostas são armazenadas em funções. Em todos os casos, é **evidenciado** no exercício qual é o tipo de resposta esperada (função ou variável).\n",
    "\n",
    "Vamos implementar um exercício teste em que a **resposta é armazenada em variável**. \n",
    "\n",
    "**Rode a célula abaixo. Em seguida, calcule o triplo do valor da variável `exemplo_var` e armazene na variável `resultado_1`**"
   ]
  },
  {
   "cell_type": "code",
   "execution_count": null,
   "id": "89d74077",
   "metadata": {
    "deletable": false,
    "editable": false,
    "nbgrader": {
     "cell_type": "code",
     "checksum": "1975ddc9102eb457601500dcdf35de5b",
     "grade": false,
     "grade_id": "cell-6d620097b9db15b6",
     "locked": true,
     "schema_version": 3,
     "solution": false,
     "task": false
    }
   },
   "outputs": [],
   "source": [
    "import random\n",
    "exemplo_var = random.randint(-2,2)\n",
    "print(f\"O valor em `exemplo_var` é {exemplo_var}\")"
   ]
  },
  {
   "cell_type": "code",
   "execution_count": null,
   "id": "ebf979b8",
   "metadata": {
    "deletable": false,
    "nbgrader": {
     "cell_type": "code",
     "checksum": "fd04d8b3e54d498d6e59242f0232e417",
     "grade": false,
     "grade_id": "cell-955b630fef635663",
     "locked": false,
     "schema_version": 3,
     "solution": true,
     "task": false
    }
   },
   "outputs": [],
   "source": [
    "# YOUR CODE HERE\n",
    "raise NotImplementedError()"
   ]
  },
  {
   "cell_type": "code",
   "execution_count": null,
   "id": "acdd6403",
   "metadata": {
    "deletable": false,
    "editable": false,
    "nbgrader": {
     "cell_type": "code",
     "checksum": "9a3f583f138087448593dd53d29e8c4d",
     "grade": true,
     "grade_id": "cell-f24af40e627eca4d",
     "locked": true,
     "points": 0,
     "schema_version": 3,
     "solution": false,
     "task": false
    }
   },
   "outputs": [],
   "source": [
    "# Não alterar: célula reservada ao autograder\n",
    "assert 'resultado_1' in globals() # Feedback: a variável `resultado_1` não foi declarada!\n",
    "assert resultado_1 % 3 == 0 # Feedback: o resultado não é múltiplo de 3. Você se lembrou de multiplicar por 3?"
   ]
  },
  {
   "cell_type": "markdown",
   "id": "811880fd",
   "metadata": {
    "deletable": false,
    "editable": false,
    "nbgrader": {
     "cell_type": "markdown",
     "checksum": "d53d44d9e7f8509e6123b47a459537c4",
     "grade": false,
     "grade_id": "cell-2e26a2ec1d4eed50",
     "locked": true,
     "schema_version": 3,
     "solution": false,
     "task": false
    }
   },
   "source": [
    "Perceba os testes públicos avaliaram se a variável foi declarada ou se ela é múltiplo de 3, mas em nenhum momento a resposta verdadeira foi fornecida. Este é o papel dos testes ocultos. \n",
    "\n",
    "No teste oculto, um gabarito é fornecida pelo professor e a resposta do aluno é comparada considerando um erro de arredondamento. No caso, o teste oculto desta célula seria somente\n",
    "```python\n",
    "gabarito = exemplo_var * 3\n",
    "assert resultado_1 == gabarito\n",
    "```"
   ]
  },
  {
   "cell_type": "markdown",
   "id": "f810e110",
   "metadata": {
    "deletable": false,
    "editable": false,
    "nbgrader": {
     "cell_type": "markdown",
     "checksum": "7271285ded0af0287271ffde84cf9317",
     "grade": false,
     "grade_id": "cell-551bcb7e198ddf71",
     "locked": true,
     "schema_version": 3,
     "solution": false,
     "task": false
    }
   },
   "source": [
    "# Outro Exemplo de Exercício\n",
    "Na maior parte das vezes, os alunos serão responsáveis por implementar funções com a solução, ao invés de variáveis.\n",
    "\n",
    "Implemente uma função chamada `eleva` que recebe dois números, por exemplo `a` e `b`, e calcule $a^b$. Retorne o resultado.\n",
    "\n",
    "**Note:** o nome da função **PRECISA** ser `eleva`. Os nomes dos parâmetros, por outro lado, não precisam ser `a` e `b` (a não ser que seja pedido explicitamente).\n",
    "\n",
    "Em alguns casos a estrutura básica da função pode vir implementada. Em outros casos, você deverá implementar a função do zero."
   ]
  },
  {
   "cell_type": "code",
   "execution_count": null,
   "id": "3aef80c0",
   "metadata": {
    "deletable": false,
    "nbgrader": {
     "cell_type": "code",
     "checksum": "c7264c89d9f3bec67f36f7f2c6c79c79",
     "grade": false,
     "grade_id": "cell-5d4da13534c3b366",
     "locked": false,
     "schema_version": 3,
     "solution": true,
     "task": false
    }
   },
   "outputs": [],
   "source": [
    "# YOUR CODE HERE\n",
    "raise NotImplementedError()"
   ]
  },
  {
   "cell_type": "code",
   "execution_count": null,
   "id": "5ce0860c",
   "metadata": {},
   "outputs": [],
   "source": [
    "# (Opcional) Esta célula pode ser usada para testar sua implementação\n",
    "# Altere `num_1` e `num_2` para verificar o resultado.\n",
    "num_1 = 2\n",
    "num_2 = 3\n",
    "print(f\"{num_1} elevado a {num_2} resulta em {eleva(num_1, num_2)}\")"
   ]
  },
  {
   "cell_type": "code",
   "execution_count": null,
   "id": "9b7a9518",
   "metadata": {
    "deletable": false,
    "editable": false,
    "nbgrader": {
     "cell_type": "code",
     "checksum": "d7342a184a03409b0254e3f5ad04a209",
     "grade": true,
     "grade_id": "cell-429589f62d26931b",
     "locked": true,
     "points": 0,
     "schema_version": 3,
     "solution": false,
     "task": false
    }
   },
   "outputs": [],
   "source": [
    "# Não alterar: célula reservada ao autograder\n",
    "assert eleva(2,3) == 8 # Feedback: resultado diferente do esperado!\n",
    "assert eleva(3,2) == 9 # Feedback: resultado diferente do esperado!\n",
    "assert eleva(3,3) == 27 # Feedback: resultado diferente do esperado!"
   ]
  },
  {
   "cell_type": "markdown",
   "id": "b015c3a0",
   "metadata": {
    "deletable": false,
    "editable": false,
    "nbgrader": {
     "cell_type": "markdown",
     "checksum": "b127f0ee37b28487bf043e4534f50bea",
     "grade": false,
     "grade_id": "cell-540eaf02cf86f270",
     "locked": true,
     "schema_version": 3,
     "solution": false,
     "task": false
    }
   },
   "source": [
    "Note que os testes públicos mostram alguns exemplos de respostas esperadas. Nos testes ocultos mais testes são feitos, normalmente aplicando números gerados aleatoriamente e comparando o resultado com uma função-gabarito."
   ]
  },
  {
   "cell_type": "markdown",
   "id": "d9bdd754",
   "metadata": {
    "deletable": false,
    "editable": false,
    "nbgrader": {
     "cell_type": "markdown",
     "checksum": "677c8bb3a0b02dfc4de998ed68325cab",
     "grade": false,
     "grade_id": "cell-fa9b5b49e4453c43",
     "locked": true,
     "schema_version": 3,
     "solution": false,
     "task": false
    }
   },
   "source": [
    "# Validação\n",
    "No topo do caderno existe um botão escrito `Validate`. Assim que concluir as implementações, rode este botão e ele irá fornecer quais exercícios foram reprovados pelos testes públicos, assim você poderá repensar eles e refazer.\n",
    "\n",
    "Em alguns casos, pode ser que o botão não apareça. Se for o seu caso, não se preocupe: se algum dos resultados estiver errado de acordo com os testes públicos um erro **em letras garrafais** é lançado logo no teste, então recomendo que reinicie o Kernel e rode novamente todas as células em sequência (dica: clique em `Kernel` e em `Restart & Run All`)."
   ]
  }
 ],
 "metadata": {
  "kernelspec": {
   "display_name": "Python 3",
   "language": "python",
   "name": "python3"
  },
  "language_info": {
   "codemirror_mode": {
    "name": "ipython",
    "version": 3
   },
   "file_extension": ".py",
   "mimetype": "text/x-python",
   "name": "python",
   "nbconvert_exporter": "python",
   "pygments_lexer": "ipython3",
   "version": "3.8.8"
  }
 },
 "nbformat": 4,
 "nbformat_minor": 5
}
